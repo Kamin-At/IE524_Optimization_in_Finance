{
 "cells": [
  {
   "cell_type": "code",
   "execution_count": 4,
   "id": "5d48bc96",
   "metadata": {},
   "outputs": [],
   "source": [
    "import cvxpy as cp\n",
    "import numpy as np"
   ]
  },
  {
   "cell_type": "markdown",
   "id": "dc30cfca",
   "metadata": {},
   "source": [
    "# Q1: Arbitrage check from 2 options. (Cannot find the opportunity as the optimal value = 0)."
   ]
  },
  {
   "cell_type": "code",
   "execution_count": 7,
   "id": "c888d9f2",
   "metadata": {},
   "outputs": [
    {
     "name": "stdout",
     "output_type": "stream",
     "text": [
      "-1.7009267327949829e-09\n",
      "A solution x is\n",
      "[0.1696287  0.1696287  0.58532037 0.58532037]\n"
     ]
    }
   ],
   "source": [
    "#Primal\n",
    "c = np.array([6,-6,4,-4])\n",
    "A = np.array([[10, -10, 0, 0],\n",
    "              [1, -1, 1, -1],\n",
    "              [1, 0, 0, 0],\n",
    "              [0, 1, 0, 0],\n",
    "              [0, 0, 1, 0],\n",
    "              [0, 0, 0, 1]])\n",
    "b = np.array([0,0,0,0,0,0])\n",
    "# Define and solve the CVXPY problem.\n",
    "x = cp.Variable(c.shape[0])\n",
    "prob = cp.Problem(cp.Minimize(c.T@x),\n",
    "                 [A @ x >= b.T])\n",
    "print(prob.solve())\n",
    "print(\"A solution x is\")\n",
    "print(x.value)"
   ]
  },
  {
   "cell_type": "markdown",
   "id": "a9492268",
   "metadata": {},
   "source": [
    "# Q2: The connection between arbitrage opportunities and risk-neutral probability."
   ]
  },
  {
   "cell_type": "code",
   "execution_count": 10,
   "id": "db7a84f4",
   "metadata": {},
   "outputs": [
    {
     "name": "stdout",
     "output_type": "stream",
     "text": [
      "-1.000000000954026\n",
      "A solution x is\n",
      "[2.21190642 1.7066413  0.63711638 0.36463901]\n"
     ]
    }
   ],
   "source": [
    "#Primal\n",
    "c = np.array([-5,6,-2,3])\n",
    "A = np.array([[2,-2,1,-4],\n",
    "              [-4,6,-1,5],\n",
    "              [-2,3,-2,3],\n",
    "              [1, 0, 0, 0],\n",
    "              [0, 1, 0, 0],\n",
    "              [0, 0, 1, 0],\n",
    "              [0, 0, 0, 1],\n",
    "              [-5,6,-2,3],\n",
    "              [5,-6,2,-3]\n",
    "             ]\n",
    "            )\n",
    "b = np.array([0,0,0,0,0,0,0,-1, 1])\n",
    "# Define and solve the CVXPY problem.\n",
    "x = cp.Variable(c.shape[0])\n",
    "prob = cp.Problem(cp.Minimize(c.T@x),\n",
    "                 [A @ x >= b.T])\n",
    "print(prob.solve())\n",
    "print(\"A solution x is\")\n",
    "print(x.value)"
   ]
  },
  {
   "cell_type": "markdown",
   "id": "a8c19d78",
   "metadata": {},
   "source": [
    "# Q3: Search for abitrage opportunities with bid-ask spreads. As the optimal solution = 0 => we did not find an abitrage opportunity."
   ]
  },
  {
   "cell_type": "code",
   "execution_count": 14,
   "id": "521d9d02",
   "metadata": {},
   "outputs": [
    {
     "name": "stdout",
     "output_type": "stream",
     "text": [
      "-3.9332919957617515e-09\n",
      "A solution x is\n",
      "[1.90365871e-08 1.09659252e-08 7.59986940e-09 2.39439630e-08\n",
      " 8.85250348e-09 1.22409918e-09 5.36082968e-09 4.64374615e-09\n",
      " 4.71701130e-09 7.23146260e-09 8.29943647e-09 7.17706390e-09]\n"
     ]
    }
   ],
   "source": [
    "#Primal\n",
    "c = np.array([23.4,-23,20.6,-20.3,18,-17.7,19,-18.7,21.3,-20.9,23.8,-23.3])\n",
    "A = np.array([[0,0,0,0,0,0,1,-1,1,-1,1,-1],\n",
    "              [0,0,0,0,0,0,0,0,5,-5,10,-10],\n",
    "              [5,-5,0,0,0,0,0,0,0,0,5,-5],\n",
    "              [10,-10,5,-5,0,0,0,0,0,0,0,0],\n",
    "              [1,-1,1,-1,1,-1,0,0,0,0,0,0]])\n",
    "A = np.concatenate([A, np.eye(12)])#Add non negative constraints\n",
    "\n",
    "b = np.zeros(17)\n",
    "# Define and solve the CVXPY problem.\n",
    "x = cp.Variable(c.shape[0])\n",
    "prob = cp.Problem(cp.Minimize(c.T@x),\n",
    "                 [A @ x >= b.T])\n",
    "print(prob.solve())\n",
    "print(\"A solution x is\")\n",
    "print(x.value)"
   ]
  },
  {
   "cell_type": "code",
   "execution_count": null,
   "id": "add30cd5",
   "metadata": {},
   "outputs": [],
   "source": []
  }
 ],
 "metadata": {
  "kernelspec": {
   "display_name": "min",
   "language": "python",
   "name": "min"
  },
  "language_info": {
   "codemirror_mode": {
    "name": "ipython",
    "version": 3
   },
   "file_extension": ".py",
   "mimetype": "text/x-python",
   "name": "python",
   "nbconvert_exporter": "python",
   "pygments_lexer": "ipython3",
   "version": "3.9.17"
  }
 },
 "nbformat": 4,
 "nbformat_minor": 5
}
