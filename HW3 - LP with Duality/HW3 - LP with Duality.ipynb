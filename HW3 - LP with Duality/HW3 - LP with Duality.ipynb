{
 "cells": [
  {
   "cell_type": "code",
   "execution_count": 3,
   "id": "2c0cb168",
   "metadata": {},
   "outputs": [],
   "source": [
    "import cvxpy as cp\n",
    "import numpy as np"
   ]
  },
  {
   "cell_type": "markdown",
   "id": "6ee671d5",
   "metadata": {},
   "source": [
    "# Question1: Find duality of an LP problem and apply strong duality theorem to show that their optimal values are the same."
   ]
  },
  {
   "cell_type": "code",
   "execution_count": 79,
   "id": "d591ce41",
   "metadata": {},
   "outputs": [
    {
     "name": "stdout",
     "output_type": "stream",
     "text": [
      "23.99999999688562\n",
      "A solution x is\n",
      "[-9.36578062e-11  5.08352671e-10  4.61019988e-10  3.90992677e-10\n",
      "  3.00000000e+00]\n"
     ]
    }
   ],
   "source": [
    "#Primal\n",
    "c = np.array([6,5,4,5,8])\n",
    "A = np.array([[1, 1, 1, 1, 1],\n",
    "              [5, 4, 3, 2, 1],\n",
    "              [-1, 0, 0, 0, 0],\n",
    "              [0, -1, 0, 0, 0],\n",
    "              [0, 0, -1, 0, 0],\n",
    "              [0, 0, 0, -1, 0],\n",
    "              [0, 0, 0, 0, -1]])\n",
    "b = np.array([3,14,0,0,0,0,0])\n",
    "# Define and solve the CVXPY problem.\n",
    "x = cp.Variable(c.shape[0])\n",
    "prob = cp.Problem(cp.Maximize(c.T@x),\n",
    "                 [A @ x <= b.T])\n",
    "print(prob.solve())\n",
    "print(\"A solution x is\")\n",
    "print(x.value)"
   ]
  },
  {
   "cell_type": "code",
   "execution_count": 80,
   "id": "59bbfc65",
   "metadata": {},
   "outputs": [
    {
     "name": "stdout",
     "output_type": "stream",
     "text": [
      "23.99999999624289\n",
      "A solution x is\n",
      "[ 8.0000000e+00 -4.5373927e-10]\n"
     ]
    }
   ],
   "source": [
    "#Dual\n",
    "c_dual = b[:len(A)-A.shape[1]]\n",
    "A_dual = np.concatenate([A[:len(A)-A.shape[1]].T, np.eye(len(A)-A.shape[1])])#Transpose of matrix A\n",
    "b_dual = np.concatenate([c, np.zeros(len(A)-A.shape[1])])\n",
    "# Define and solve the CVXPY problem.\n",
    "x = cp.Variable(c_dual.shape[0])\n",
    "prob = cp.Problem(cp.Minimize(c_dual.T@x),\n",
    "                 [A_dual @ x >= b_dual])\n",
    "print(prob.solve())\n",
    "print(\"A solution x is\")\n",
    "print(x.value)"
   ]
  },
  {
   "cell_type": "markdown",
   "id": "dae72b02",
   "metadata": {},
   "source": [
    "# Question2: Find duality of an LP problem and apply weak duality theorem to show that their optimal value cannot be less than 10."
   ]
  },
  {
   "cell_type": "code",
   "execution_count": 81,
   "id": "fe18f096",
   "metadata": {},
   "outputs": [
    {
     "name": "stdout",
     "output_type": "stream",
     "text": [
      "12.000000001544326\n",
      "A solution x is\n",
      "[1.18554841e-09 2.40000000e+00 2.07316499e-09]\n"
     ]
    }
   ],
   "source": [
    "#Primal\n",
    "c = np.array([2,5,9])\n",
    "A = np.array([[1,3,2],\n",
    "              [1,5,4],\n",
    "              [1, 0, 0],\n",
    "              [0, 1, 0],\n",
    "              [0, 0, 1]])\n",
    "b = np.array([5,12,0,0,0])\n",
    "# Define and solve the CVXPY problem.\n",
    "x = cp.Variable(c.shape[0])\n",
    "prob = cp.Problem(cp.Minimize(c.T@x),\n",
    "                 [A @ x >= b.T])\n",
    "print(prob.solve())\n",
    "print(\"A solution x is\")\n",
    "print(x.value)"
   ]
  },
  {
   "cell_type": "code",
   "execution_count": 82,
   "id": "ac3051f5",
   "metadata": {},
   "outputs": [
    {
     "name": "stdout",
     "output_type": "stream",
     "text": [
      "12.000000005925775\n",
      "A solution x is\n",
      "[1.33238170e-08 9.99999995e-01]\n"
     ]
    }
   ],
   "source": [
    "#Dual\n",
    "c_dual = b[:len(A)-A.shape[1]]\n",
    "A_dual = np.concatenate([A[:len(A)-A.shape[1]].T, -np.eye(len(A)-A.shape[1])])#Transpose of matrix A\n",
    "b_dual = np.concatenate([c, np.zeros(len(A)-A.shape[1])])\n",
    "# Define and solve the CVXPY problem.\n",
    "x = cp.Variable(c_dual.shape[0])\n",
    "prob = cp.Problem(cp.Maximize(c_dual.T@x),\n",
    "                 [A_dual @ x <= b_dual])\n",
    "print(prob.solve())\n",
    "print(\"A solution x is\")\n",
    "print(x.value)"
   ]
  },
  {
   "cell_type": "markdown",
   "id": "a1282883",
   "metadata": {},
   "source": [
    "# Question3: Formulate LP problem and solve to achieve TYPE B Arbitrage."
   ]
  },
  {
   "cell_type": "code",
   "execution_count": 162,
   "id": "3042cd6b",
   "metadata": {},
   "outputs": [
    {
     "name": "stdout",
     "output_type": "stream",
     "text": [
      "inf\n",
      "A solution x is\n",
      "None\n"
     ]
    }
   ],
   "source": [
    "#Primal => Fianl benefit = inf => there is an arbitrage!\n",
    "c = np.array([3, -3, 90, -90, 50, -50])\n",
    "A = np.array([[-1,1,-50,50,-35,35],\n",
    "              [-1,1,-30,30,-15,15],\n",
    "              [-1,1,-10,10,-0,0],\n",
    "              [1,-1,30,-30,5,-5],\n",
    "              [-1,1,-30,30,-5,5],\n",
    "              [-1,0,0,0,0,0],\n",
    "              [0,-1,0,0,0,0],\n",
    "              [0,0,-1,0,0,0],\n",
    "              [0,0,0,-1,0,0],\n",
    "              [0,0,0,0,-1,0],\n",
    "              [0,0,0,0,0,-1],\n",
    "             ])\n",
    "b = np.array([0,0,0,0,0,0,0,0,0,0,0])\n",
    "# Define and solve the CVXPY problem.\n",
    "x = cp.Variable(c.shape[0])\n",
    "prob = cp.Problem(cp.Maximize(c.T@x),\n",
    "                 [A @ x <= b.T])\n",
    "print(prob.solve())\n",
    "print(\"A solution x is\")\n",
    "print(x.value)"
   ]
  },
  {
   "cell_type": "code",
   "execution_count": null,
   "id": "14fad6df",
   "metadata": {},
   "outputs": [],
   "source": []
  }
 ],
 "metadata": {
  "kernelspec": {
   "display_name": "min",
   "language": "python",
   "name": "min"
  },
  "language_info": {
   "codemirror_mode": {
    "name": "ipython",
    "version": 3
   },
   "file_extension": ".py",
   "mimetype": "text/x-python",
   "name": "python",
   "nbconvert_exporter": "python",
   "pygments_lexer": "ipython3",
   "version": "3.9.17"
  }
 },
 "nbformat": 4,
 "nbformat_minor": 5
}
