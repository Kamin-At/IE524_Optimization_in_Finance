{
 "cells": [
  {
   "cell_type": "code",
   "execution_count": 1,
   "id": "b4e95e3e",
   "metadata": {},
   "outputs": [],
   "source": [
    "from gurobipy import *"
   ]
  },
  {
   "cell_type": "code",
   "execution_count": 9,
   "id": "34736d53",
   "metadata": {},
   "outputs": [
    {
     "name": "stdout",
     "output_type": "stream",
     "text": [
      "Gurobi Optimizer version 10.0.0 build v10.0.0rc2 (win64)\n",
      "\n",
      "CPU model: 13th Gen Intel(R) Core(TM) i9-13900H, instruction set [SSE2|AVX|AVX2]\n",
      "Thread count: 14 physical cores, 20 logical processors, using up to 20 threads\n",
      "\n",
      "Optimize a model with 2 rows, 3 columns and 4 nonzeros\n",
      "Model fingerprint: 0x5706ced4\n",
      "Coefficient statistics:\n",
      "  Matrix range     [1e+00, 2e+00]\n",
      "  Objective range  [1e+00, 1e+00]\n",
      "  Bounds range     [0e+00, 0e+00]\n",
      "  RHS range        [2e+00, 3e+00]\n",
      "Presolve removed 2 rows and 3 columns\n",
      "Presolve time: 0.00s\n",
      "Presolve: All rows and columns removed\n",
      "Iteration    Objective       Primal Inf.    Dual Inf.      Time\n",
      "       0    4.0000000e+00   0.000000e+00   0.000000e+00      0s\n",
      "\n",
      "Solved in 0 iterations and 0.01 seconds (0.00 work units)\n",
      "Optimal objective  4.000000000e+00\n",
      "-----------------\n",
      "optimal solution is ...\n",
      "x1 = 1.0\n",
      "x2 = 0.0\n",
      "x3 = 3.0\n"
     ]
    }
   ],
   "source": [
    "#Problem1 Case1\n",
    "f = Model(\"test\")\n",
    "x1=f.addVar(name='x1', vtype=GRB.CONTINUOUS)\n",
    "x2=f.addVar(name='x2', vtype=GRB.CONTINUOUS)\n",
    "x3=f.addVar(name='x3', vtype=GRB.CONTINUOUS)\n",
    "f.setObjective(x1+x2+x3, GRB.MAXIMIZE)\n",
    "f.addConstr(2*x1 + x2 <= 2)\n",
    "f.addConstr(2*x2 + x3 <= 3)\n",
    "f.optimize()\n",
    "print('-----------------')\n",
    "print('optimal solution is ...')\n",
    "for i in f.getVars():\n",
    "    print(i.varname, '=', i.x)"
   ]
  },
  {
   "cell_type": "code",
   "execution_count": 8,
   "id": "56c5e526",
   "metadata": {},
   "outputs": [
    {
     "name": "stdout",
     "output_type": "stream",
     "text": [
      "Gurobi Optimizer version 10.0.0 build v10.0.0rc2 (win64)\n",
      "\n",
      "CPU model: 13th Gen Intel(R) Core(TM) i9-13900H, instruction set [SSE2|AVX|AVX2]\n",
      "Thread count: 14 physical cores, 20 logical processors, using up to 20 threads\n",
      "\n",
      "Optimize a model with 3 rows, 4 columns and 8 nonzeros\n",
      "Model fingerprint: 0xdb69d1d1\n",
      "Coefficient statistics:\n",
      "  Matrix range     [1e+00, 2e+00]\n",
      "  Objective range  [1e+00, 1e+00]\n",
      "  Bounds range     [0e+00, 0e+00]\n",
      "  RHS range        [5e+00, 2e+01]\n",
      "Presolve removed 3 rows and 4 columns\n",
      "Presolve time: 0.01s\n",
      "Presolve: All rows and columns removed\n",
      "Iteration    Objective       Primal Inf.    Dual Inf.      Time\n",
      "       0    5.0000000e+00   0.000000e+00   0.000000e+00      0s\n",
      "\n",
      "Solved in 0 iterations and 0.01 seconds (0.00 work units)\n",
      "Optimal objective  5.000000000e+00\n",
      "-----------------\n",
      "optimal solution is ...\n",
      "x1 = 5.0\n",
      "x2 = 0.0\n",
      "x3 = 0.0\n",
      "y4 = 0.0\n"
     ]
    }
   ],
   "source": [
    "#Problem1 Case2\n",
    "f = Model(\"test\")\n",
    "x1=f.addVar(name='x1', vtype=GRB.CONTINUOUS)\n",
    "x2=f.addVar(name='x2', vtype=GRB.CONTINUOUS)\n",
    "x3=f.addVar(name='x3', vtype=GRB.CONTINUOUS)\n",
    "y4=f.addVar(name='y4', vtype=GRB.CONTINUOUS)\n",
    "f.setObjective(x1+x2+x3-y4, GRB.MAXIMIZE)\n",
    "f.addConstr(x1 + x2 + x3 - y4<= 5)\n",
    "f.addConstr(2*x2 + x3 <= 5)\n",
    "f.addConstr(2*x3 - y4 <= 18)\n",
    "f.optimize()\n",
    "print('-----------------')\n",
    "print('optimal solution is ...')\n",
    "for i in f.getVars():\n",
    "    print(i.varname, '=', i.x)"
   ]
  },
  {
   "cell_type": "code",
   "execution_count": 10,
   "id": "2fd71958",
   "metadata": {},
   "outputs": [
    {
     "name": "stdout",
     "output_type": "stream",
     "text": [
      "Gurobi Optimizer version 10.0.0 build v10.0.0rc2 (win64)\n",
      "\n",
      "CPU model: 13th Gen Intel(R) Core(TM) i9-13900H, instruction set [SSE2|AVX|AVX2]\n",
      "Thread count: 14 physical cores, 20 logical processors, using up to 20 threads\n",
      "\n",
      "Optimize a model with 2 rows, 3 columns and 4 nonzeros\n",
      "Model fingerprint: 0x3598e703\n",
      "Coefficient statistics:\n",
      "  Matrix range     [1e+00, 2e+00]\n",
      "  Objective range  [1e+00, 1e+00]\n",
      "  Bounds range     [0e+00, 0e+00]\n",
      "  RHS range        [2e+00, 3e+00]\n",
      "Presolve time: 0.00s\n",
      "\n",
      "Solved in 0 iterations and 0.01 seconds (0.00 work units)\n",
      "Infeasible or unbounded model\n",
      "-----------------\n",
      "optimal solution is ...\n"
     ]
    },
    {
     "ename": "AttributeError",
     "evalue": "Unable to retrieve attribute 'x'",
     "output_type": "error",
     "traceback": [
      "\u001b[1;31m---------------------------------------------------------------------------\u001b[0m",
      "\u001b[1;31mAttributeError\u001b[0m                            Traceback (most recent call last)",
      "Cell \u001b[1;32mIn[10], line 13\u001b[0m\n\u001b[0;32m     11\u001b[0m \u001b[38;5;28mprint\u001b[39m(\u001b[38;5;124m'\u001b[39m\u001b[38;5;124moptimal solution is ...\u001b[39m\u001b[38;5;124m'\u001b[39m)\n\u001b[0;32m     12\u001b[0m \u001b[38;5;28;01mfor\u001b[39;00m i \u001b[38;5;129;01min\u001b[39;00m f\u001b[38;5;241m.\u001b[39mgetVars():\n\u001b[1;32m---> 13\u001b[0m     \u001b[38;5;28mprint\u001b[39m(i\u001b[38;5;241m.\u001b[39mvarname, \u001b[38;5;124m'\u001b[39m\u001b[38;5;124m=\u001b[39m\u001b[38;5;124m'\u001b[39m, \u001b[43mi\u001b[49m\u001b[38;5;241;43m.\u001b[39;49m\u001b[43mx\u001b[49m)\n",
      "File \u001b[1;32msrc\\gurobipy\\var.pxi:125\u001b[0m, in \u001b[0;36mgurobipy.Var.__getattr__\u001b[1;34m()\u001b[0m\n",
      "File \u001b[1;32msrc\\gurobipy\\var.pxi:153\u001b[0m, in \u001b[0;36mgurobipy.Var.getAttr\u001b[1;34m()\u001b[0m\n",
      "File \u001b[1;32msrc\\gurobipy\\attrutil.pxi:100\u001b[0m, in \u001b[0;36mgurobipy.__getattr\u001b[1;34m()\u001b[0m\n",
      "\u001b[1;31mAttributeError\u001b[0m: Unable to retrieve attribute 'x'"
     ]
    }
   ],
   "source": [
    "#Problem1 Case3\n",
    "f = Model(\"test\")\n",
    "x1=f.addVar(name='x1', vtype=GRB.CONTINUOUS)\n",
    "x2=f.addVar(name='x2', vtype=GRB.CONTINUOUS)\n",
    "x3=f.addVar(name='x3', vtype=GRB.CONTINUOUS)\n",
    "f.setObjective(-x1-x2-x3, GRB.MINIMIZE)\n",
    "f.addConstr(2*x1 + x2 >= 2)\n",
    "f.addConstr(2*x2 + x3 >= 3)\n",
    "f.optimize()\n",
    "print('-----------------')\n",
    "print('optimal solution is ...')\n",
    "for i in f.getVars():\n",
    "    print(i.varname, '=', i.x)"
   ]
  },
  {
   "cell_type": "code",
   "execution_count": 11,
   "id": "2c868920",
   "metadata": {},
   "outputs": [
    {
     "name": "stdout",
     "output_type": "stream",
     "text": [
      "Gurobi Optimizer version 10.0.0 build v10.0.0rc2 (win64)\n",
      "\n",
      "CPU model: 13th Gen Intel(R) Core(TM) i9-13900H, instruction set [SSE2|AVX|AVX2]\n",
      "Thread count: 14 physical cores, 20 logical processors, using up to 20 threads\n",
      "\n",
      "Optimize a model with 2 rows, 4 columns and 4 nonzeros\n",
      "Model fingerprint: 0xc130ff7d\n",
      "Coefficient statistics:\n",
      "  Matrix range     [1e+00, 1e+00]\n",
      "  Objective range  [1e+00, 1e+00]\n",
      "  Bounds range     [0e+00, 0e+00]\n",
      "  RHS range        [1e+00, 1e+00]\n",
      "Presolve time: 0.00s\n",
      "\n",
      "Solved in 0 iterations and 0.00 seconds (0.00 work units)\n",
      "Infeasible or unbounded model\n",
      "-----------------\n",
      "optimal solution is ...\n"
     ]
    },
    {
     "ename": "AttributeError",
     "evalue": "Unable to retrieve attribute 'x'",
     "output_type": "error",
     "traceback": [
      "\u001b[1;31m---------------------------------------------------------------------------\u001b[0m",
      "\u001b[1;31mAttributeError\u001b[0m                            Traceback (most recent call last)",
      "Cell \u001b[1;32mIn[11], line 14\u001b[0m\n\u001b[0;32m     12\u001b[0m \u001b[38;5;28mprint\u001b[39m(\u001b[38;5;124m'\u001b[39m\u001b[38;5;124moptimal solution is ...\u001b[39m\u001b[38;5;124m'\u001b[39m)\n\u001b[0;32m     13\u001b[0m \u001b[38;5;28;01mfor\u001b[39;00m i \u001b[38;5;129;01min\u001b[39;00m f\u001b[38;5;241m.\u001b[39mgetVars():\n\u001b[1;32m---> 14\u001b[0m     \u001b[38;5;28mprint\u001b[39m(i\u001b[38;5;241m.\u001b[39mvarname, \u001b[38;5;124m'\u001b[39m\u001b[38;5;124m=\u001b[39m\u001b[38;5;124m'\u001b[39m, \u001b[43mi\u001b[49m\u001b[38;5;241;43m.\u001b[39;49m\u001b[43mx\u001b[49m)\n",
      "File \u001b[1;32msrc\\gurobipy\\var.pxi:125\u001b[0m, in \u001b[0;36mgurobipy.Var.__getattr__\u001b[1;34m()\u001b[0m\n",
      "File \u001b[1;32msrc\\gurobipy\\var.pxi:153\u001b[0m, in \u001b[0;36mgurobipy.Var.getAttr\u001b[1;34m()\u001b[0m\n",
      "File \u001b[1;32msrc\\gurobipy\\attrutil.pxi:100\u001b[0m, in \u001b[0;36mgurobipy.__getattr\u001b[1;34m()\u001b[0m\n",
      "\u001b[1;31mAttributeError\u001b[0m: Unable to retrieve attribute 'x'"
     ]
    }
   ],
   "source": [
    "#Problem1 Case4\n",
    "f = Model(\"test\")\n",
    "x1=f.addVar(name='x1', vtype=GRB.CONTINUOUS)\n",
    "x2=f.addVar(name='x2', vtype=GRB.CONTINUOUS)\n",
    "x3=f.addVar(name='x3', vtype=GRB.CONTINUOUS)\n",
    "x4=f.addVar(name='x4', vtype=GRB.CONTINUOUS)\n",
    "f.setObjective(x1+x2+x3+x4, GRB.MAXIMIZE)\n",
    "f.addConstr(x1 + x2 <= -1)\n",
    "f.addConstr(x2 + x3 <= -1)\n",
    "f.optimize()\n",
    "print('-----------------')\n",
    "print('optimal solution is ...')\n",
    "for i in f.getVars():\n",
    "    print(i.varname, '=', i.x)"
   ]
  },
  {
   "cell_type": "markdown",
   "id": "adac5156",
   "metadata": {},
   "source": [
    "# Question3.1"
   ]
  },
  {
   "cell_type": "code",
   "execution_count": 22,
   "id": "4d218383",
   "metadata": {},
   "outputs": [
    {
     "name": "stdout",
     "output_type": "stream",
     "text": [
      "Gurobi Optimizer version 10.0.0 build v10.0.0rc2 (win64)\n",
      "\n",
      "CPU model: 13th Gen Intel(R) Core(TM) i9-13900H, instruction set [SSE2|AVX|AVX2]\n",
      "Thread count: 14 physical cores, 20 logical processors, using up to 20 threads\n",
      "\n",
      "Optimize a model with 3 rows, 5 columns and 15 nonzeros\n",
      "Model fingerprint: 0xdb5e99b4\n",
      "Coefficient statistics:\n",
      "  Matrix range     [1e+00, 7e+00]\n",
      "  Objective range  [1e+00, 5e+00]\n",
      "  Bounds range     [0e+00, 0e+00]\n",
      "  RHS range        [1e+01, 3e+01]\n",
      "Presolve time: 0.00s\n",
      "Presolved: 3 rows, 5 columns, 15 nonzeros\n",
      "\n",
      "Iteration    Objective       Primal Inf.    Dual Inf.      Time\n",
      "       0    1.5000000e+31   8.000000e+30   1.500000e+01      0s\n",
      "       3    4.0000000e+01   0.000000e+00   0.000000e+00      0s\n",
      "\n",
      "Solved in 3 iterations and 0.01 seconds (0.00 work units)\n",
      "Optimal objective  4.000000000e+01\n",
      "-----------------\n",
      "optimal solution is ...\n",
      "x1 = 0.0\n",
      "x2 = 6.363636363636363\n",
      "x3 = 0.0\n",
      "x4 = 8.181818181818182\n",
      "x5 = 0.0\n"
     ]
    }
   ],
   "source": [
    "f = Model(\"test\")\n",
    "x1=f.addVar(name='x1', vtype=GRB.CONTINUOUS)\n",
    "x2=f.addVar(name='x2', vtype=GRB.CONTINUOUS)\n",
    "x3=f.addVar(name='x3', vtype=GRB.CONTINUOUS)\n",
    "x4=f.addVar(name='x4', vtype=GRB.CONTINUOUS)\n",
    "x5=f.addVar(name='x5', vtype=GRB.CONTINUOUS)\n",
    "f.setObjective(4*x1 + 5*x2 + 3*x3 + x4 + 2*x5, GRB.MAXIMIZE)\n",
    "f.addConstr(x1 - x2 + x3 + 2*x4 + 3*x5 <= 10)\n",
    "f.addConstr(5*x1 + 7*x2 + 2*x3 - 3*x4 + x5 <= 20)\n",
    "f.addConstr(x1 + x2 + x3 + x4 + x5 <= 25)\n",
    "f.optimize()\n",
    "print('-----------------')\n",
    "print('optimal solution is ...')\n",
    "for i in f.getVars():\n",
    "    print(i.varname, '=', i.x)"
   ]
  },
  {
   "cell_type": "markdown",
   "id": "1007052a",
   "metadata": {},
   "source": [
    "# Question3.2"
   ]
  },
  {
   "cell_type": "code",
   "execution_count": 25,
   "id": "6d8b9a67",
   "metadata": {},
   "outputs": [
    {
     "name": "stdout",
     "output_type": "stream",
     "text": [
      "Gurobi Optimizer version 10.0.0 build v10.0.0rc2 (win64)\n",
      "\n",
      "CPU model: 13th Gen Intel(R) Core(TM) i9-13900H, instruction set [SSE2|AVX|AVX2]\n",
      "Thread count: 14 physical cores, 20 logical processors, using up to 20 threads\n",
      "\n",
      "Optimize a model with 5 rows, 3 columns and 15 nonzeros\n",
      "Model fingerprint: 0xaebcc5bd\n",
      "Coefficient statistics:\n",
      "  Matrix range     [1e+00, 7e+00]\n",
      "  Objective range  [1e+01, 3e+01]\n",
      "  Bounds range     [0e+00, 0e+00]\n",
      "  RHS range        [1e+00, 5e+00]\n",
      "Presolve time: 0.00s\n",
      "Presolved: 5 rows, 3 columns, 15 nonzeros\n",
      "\n",
      "Iteration    Objective       Primal Inf.    Dual Inf.      Time\n",
      "       0    0.0000000e+00   3.375000e+00   0.000000e+00      0s\n",
      "       3    4.0000000e+01   0.000000e+00   0.000000e+00      0s\n",
      "\n",
      "Solved in 3 iterations and 0.01 seconds (0.00 work units)\n",
      "Optimal objective  4.000000000e+01\n",
      "-----------------\n",
      "optimal solution is ...\n",
      "y1 = 2.0\n",
      "y2 = 1.0\n",
      "y3 = 0.0\n"
     ]
    }
   ],
   "source": [
    "f = Model(\"test\")\n",
    "y1=f.addVar(name='y1', vtype=GRB.CONTINUOUS)\n",
    "y2=f.addVar(name='y2', vtype=GRB.CONTINUOUS)\n",
    "y3=f.addVar(name='y3', vtype=GRB.CONTINUOUS)\n",
    "f.setObjective(10*y1 + 20*y2 + 25*y3, GRB.MINIMIZE)\n",
    "f.addConstr(y1 + 5*y2 + y3 >= 4)\n",
    "f.addConstr(-y1 + 7*y2 + y3 >= 5)\n",
    "f.addConstr(y1 + 2*y2 + y3 >= 3)\n",
    "f.addConstr(2*y1 - 3*y2 + 2*y3 >= 1)\n",
    "f.addConstr(3*y1 + y2 + y3 >= 2)\n",
    "f.optimize()\n",
    "print('-----------------')\n",
    "print('optimal solution is ...')\n",
    "for i in f.getVars():\n",
    "    print(i.varname, '=', i.x)"
   ]
  }
 ],
 "metadata": {
  "kernelspec": {
   "display_name": "min",
   "language": "python",
   "name": "min"
  },
  "language_info": {
   "codemirror_mode": {
    "name": "ipython",
    "version": 3
   },
   "file_extension": ".py",
   "mimetype": "text/x-python",
   "name": "python",
   "nbconvert_exporter": "python",
   "pygments_lexer": "ipython3",
   "version": "3.9.17"
  }
 },
 "nbformat": 4,
 "nbformat_minor": 5
}
